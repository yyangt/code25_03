{
 "cells": [
  {
   "cell_type": "code",
   "execution_count": 1,
   "id": "c4ac5b2d-0e0d-4cdd-96b5-79fbdd85b6d0",
   "metadata": {},
   "outputs": [],
   "source": [
    "import torch\n",
    "import torch.nn as nn\n",
    "import torch.nn.functional as F\n",
    "import torch.optim as optim\n",
    "from torchvision import datasets,transforms\n"
   ]
  },
  {
   "cell_type": "code",
   "execution_count": 2,
   "id": "3ad835dc-54d5-4b2b-817b-92ea847bf37c",
   "metadata": {},
   "outputs": [],
   "source": [
    "# 1.定义超参数\n",
    "BATCH_SIZE=16 \n",
    "EPOCHS=20\n",
    "DEVICE=torch.device(\"cuda\")\n"
   ]
  },
  {
   "cell_type": "code",
   "execution_count": 4,
   "id": "494c831f-8142-4516-a488-519b93428178",
   "metadata": {},
   "outputs": [],
   "source": [
    "#2.构建pipline\n",
    "pipeline=transforms.Compose([\n",
    "    transforms.ToTensor(),#将图片转换为张量\n",
    "    transforms.Normalize((0.1307,),(0.3081,))#正则化，降低模型复杂度\n",
    "])"
   ]
  },
  {
   "cell_type": "code",
   "execution_count": 7,
   "id": "8827692b-04aa-46f3-87c7-9981326ef446",
   "metadata": {},
   "outputs": [],
   "source": [
    "#3.下载加载数据\n",
    "from torch.utils.data import DataLoader\n",
    "#下载数据集\n",
    "train_set=datasets.MNIST(\"data\",train=True,download=True,transform=pipeline)\n",
    "\n",
    "text_set=datasets.MNIST(\"data\",train=True,download=True,transform=pipeline)\n",
    "#加载数据集\n",
    "train_loader=DataLoader(train_set,batch_size=BATCH_SIZE,shuffle=True)\n",
    "\n",
    "text_loader=DataLoader(text_set,batch_size=BATCH_SIZE,shuffle=True)"
   ]
  },
  {
   "cell_type": "code",
   "execution_count": null,
   "id": "96040737-d762-47c0-91e1-214df8568b9f",
   "metadata": {},
   "outputs": [],
   "source": [
    "#4.构架网络模型\n",
    "class Digit(nn.Module):\n",
    "    def __init__(self):\n",
    "        super.()__init__()\n",
    "        self.conv1=nn.Conv2d(1,10,5)#1为灰度通道，10为输出通道，5为卷积核\n",
    "        self.conv2=nn.Conv2d(10,20,3)#10为输入通道，20为输出通道，3为卷积核\n",
    "        self.fc1=nn.Linear(20*10*10,500)\n",
    "        self.fc2=nn.Linear(500,10)\n",
    "    def forward(self,x):\n",
    "        input_size=x.size(0)\n",
    "        x=self.conv1(x)#输入：batch*1*28*28,输出为batch*10*24*24 (28-5+1)\n",
    "        x=F.relu(x)\n",
    "        x=F.max_pool2d(x,2,2)#输入不变，输出为batch*10*12*12\n",
    "        x=self.conv2(x)#输入为batch*10*12*12，输出为batch*20*10*10"
   ]
  }
 ],
 "metadata": {
  "kernelspec": {
   "display_name": "Python (GIS)",
   "language": "python",
   "name": "gis_2024"
  },
  "language_info": {
   "codemirror_mode": {
    "name": "ipython",
    "version": 3
   },
   "file_extension": ".py",
   "mimetype": "text/x-python",
   "name": "python",
   "nbconvert_exporter": "python",
   "pygments_lexer": "ipython3",
   "version": "3.12.3"
  }
 },
 "nbformat": 4,
 "nbformat_minor": 5
}
