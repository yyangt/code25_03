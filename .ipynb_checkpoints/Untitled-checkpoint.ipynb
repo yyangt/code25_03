{
 "cells": [
  {
   "cell_type": "code",
   "execution_count": 1,
   "id": "c4ac5b2d-0e0d-4cdd-96b5-79fbdd85b6d0",
   "metadata": {},
   "outputs": [],
   "source": [
    "import torch\n",
    "import torch.nn as nn\n",
    "import torch.nn.functional as F\n",
    "import torch.optim as optim\n",
    "from torchvision import datasets,transforms\n"
   ]
  },
  {
   "cell_type": "code",
   "execution_count": 2,
   "id": "3ad835dc-54d5-4b2b-817b-92ea847bf37c",
   "metadata": {},
   "outputs": [],
   "source": [
    "# 1.定义超参数\n",
    "BATCH_SIZE=16 \n",
    "EPOCHS=20\n",
    "DEVICE=torch.device(\"cuda\" if torch.cuda.is_available() else \"cpu\")\n"
   ]
  },
  {
   "cell_type": "code",
   "execution_count": 3,
   "id": "494c831f-8142-4516-a488-519b93428178",
   "metadata": {},
   "outputs": [],
   "source": [
    "#2.构建pipline\n",
    "pipeline=transforms.Compose([\n",
    "    transforms.ToTensor(),#将图片转换为张量\n",
    "    transforms.Normalize((0.1307,),(0.3081,))#正则化，降低模型复杂度\n",
    "])"
   ]
  },
  {
   "cell_type": "code",
   "execution_count": 4,
   "id": "8827692b-04aa-46f3-87c7-9981326ef446",
   "metadata": {},
   "outputs": [],
   "source": [
    "#3.下载加载数据\n",
    "from torch.utils.data import DataLoader\n",
    "#下载数据集\n",
    "train_set=datasets.MNIST(\"data\",train=True,download=True,transform=pipeline)\n",
    "\n",
    "text_set=datasets.MNIST(\"data\",train=False,download=True,transform=pipeline)\n",
    "#加载数据集\n",
    "train_loader=DataLoader(train_set,batch_size=BATCH_SIZE,shuffle=True)\n",
    "\n",
    "text_loader=DataLoader(text_set,batch_size=BATCH_SIZE,shuffle=True)"
   ]
  },
  {
   "cell_type": "code",
   "execution_count": 5,
   "id": "96040737-d762-47c0-91e1-214df8568b9f",
   "metadata": {},
   "outputs": [],
   "source": [
    "#4.构架网络模型\n",
    "class Digit(nn.Module):\n",
    "    def __init__(self):\n",
    "        super().__init__()\n",
    "        self.conv1=nn.Conv2d(1,10,5)#1为灰度通道，10为输出通道，5为卷积核\n",
    "        self.conv2=nn.Conv2d(10,20,3)#10为输入通道，20为输出通道，3为卷积核\n",
    "        self.fc1=nn.Linear(20*10*10,500)\n",
    "        self.fc2=nn.Linear(500,10)\n",
    "    def forward(self,x):\n",
    "        input_size=x.size(0)\n",
    "        x=self.conv1(x)#输入：batch*1*28*28,输出为batch*10*24*24 (28-5+1)\n",
    "        x=F.relu(x)#激活函数\n",
    "        x=F.max_pool2d(x,2,2)#最大池化层输入不变，输出为batch*10*12*12\n",
    "        \n",
    "        x=self.conv2(x)#输入为batch*10*12*12，输出为batch*20*10*10\n",
    "        x=F.relu(x)\n",
    "        \n",
    "        x=x.view(input_size,-1)#展平为2000\n",
    "        \n",
    "        x=self.fc1(x)#输入为batch*2000，输出为batch*500\n",
    "        x=F.relu(x)\n",
    "\n",
    "        x=self.fc2(x)#输入为500，输出为10*batch\n",
    "        output=F.log_softmax(x,dim=1)\n",
    "        return output"
   ]
  },
  {
   "cell_type": "code",
   "execution_count": 6,
   "id": "017fdbc0-64ff-47ca-8685-18b302765d1c",
   "metadata": {},
   "outputs": [],
   "source": [
    "#5.定义优化器\n",
    "model=Digit().to(DEVICE)\n",
    "\n",
    "optimizer=optim.Adam(model.parameters())\n"
   ]
  },
  {
   "cell_type": "code",
   "execution_count": 7,
   "id": "684ed9a4-f91a-4876-91a7-c01c288954bb",
   "metadata": {},
   "outputs": [],
   "source": [
    "#6.定义训练方法\n",
    "def train_model(model,device,train_loader,optimizer,epoch):\n",
    "    model.train()\n",
    "    for batch_index,(data , target) in enumerate(train_loader):\n",
    "        data,target=data.to(device),target.to(device)\n",
    "        #梯度初始化为0\n",
    "        optimizer.zero_grad()\n",
    "        #训练后的结果\n",
    "        output=model(data)\n",
    "        #计算损失\n",
    "        loss =F.cross_entropy(output,target)\n",
    "        #找到概率最大的下标\n",
    "        #pred=output.max(1,keepdim=True)# pred=output.argmax(dim=1)\n",
    "        #反向传播\n",
    "        loss.backward()\n",
    "        #参数优化\n",
    "        optimizer.step()\n",
    "        if batch_index % 3000 == 0:\n",
    "            print(\"Train Epoch:{} \\t Loss {:.6f}\".format(epoch,loss.item()))\\\n",
    "        "
   ]
  },
  {
   "cell_type": "code",
   "execution_count": 8,
   "id": "8176cc9b-240d-40ce-929d-2efd55aad133",
   "metadata": {},
   "outputs": [],
   "source": [
    "#7.定义测试方法\n",
    "def text_model(model,device,text_loader):\n",
    "    model.eval()\n",
    "    correct=0.0\n",
    "    text_loss=0.0\n",
    "    with torch.no_grad():\n",
    "        for data,target in text_loader:\n",
    "            data,target=data.to(device),target.to(device)\n",
    "            output=model(data)\n",
    "            text_loss+=F.cross_entropy(output,target).item()\n",
    "            pred=output.max(1,keepdim=True)\n",
    "            #累计正确的值\n",
    "            correct+=pred.eq(target.view_as(pred)).sum().item()\n",
    "        text_loss/=len(text_loader.dataset)\n",
    "        print(\"Text -Average loss : {:.4f},Accuracy : {:.3f}\\n\".format(text_loss,100.0*correct/len(text_loader.dataset)) )\n",
    "             "
   ]
  },
  {
   "cell_type": "code",
   "execution_count": null,
   "id": "0dc635d8-dfbd-4eac-845a-03dc827582a6",
   "metadata": {},
   "outputs": [
    {
     "name": "stdout",
     "output_type": "stream",
     "text": [
      "Train Epoch:1 \t Loss 2.314153\n"
     ]
    }
   ],
   "source": [
    "#8.调用方法\n",
    "for epoch in range(1,EPOCHS+1):\n",
    "    train_model(model,DEVICE,train_loader,optimizer,epoch)\n",
    "    text_model(model,DEVICE,text_loader)"
   ]
  },
  {
   "cell_type": "code",
   "execution_count": null,
   "id": "0d025c39-81b1-4489-bc08-744240d54f36",
   "metadata": {},
   "outputs": [],
   "source": []
  }
 ],
 "metadata": {
  "kernelspec": {
   "display_name": "Python (GIS)",
   "language": "python",
   "name": "gis_2024"
  },
  "language_info": {
   "codemirror_mode": {
    "name": "ipython",
    "version": 3
   },
   "file_extension": ".py",
   "mimetype": "text/x-python",
   "name": "python",
   "nbconvert_exporter": "python",
   "pygments_lexer": "ipython3",
   "version": "3.12.3"
  }
 },
 "nbformat": 4,
 "nbformat_minor": 5
}
